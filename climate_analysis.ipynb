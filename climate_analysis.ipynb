{
 "cells": [
  {
   "cell_type": "markdown",
   "metadata": {},
   "source": [
    "### 1. Climate Analysis and Exploration"
   ]
  },
  {
   "cell_type": "code",
   "execution_count": 1,
   "metadata": {},
   "outputs": [],
   "source": [
    "import sqlalchemy\n",
    "from sqlalchemy.ext.automap import automap_base\n",
    "from sqlalchemy.orm import Session\n",
    "from sqlalchemy import create_engine, func\n",
    "import datetime as dt\n",
    "import pandas as pd\n",
    "import matplotlib.pyplot as plt\n",
    "import matplotlib as mpl\n",
    "import seaborn as sns\n",
    "import matplotlib.dates as mdates\n",
    "import pprint"
   ]
  },
  {
   "cell_type": "markdown",
   "metadata": {},
   "source": [
    "#### 1.1. Database connection\n",
    "* Connect to the sqlite database\n",
    "* Reflect tables into classes and save a reference to those classes\n",
    "* Create a session"
   ]
  },
  {
   "cell_type": "code",
   "execution_count": 2,
   "metadata": {},
   "outputs": [],
   "source": [
    "# Create engine connection\n",
    "engine = create_engine(\"sqlite:///hawaii.sqlite\")\n",
    "conn = engine.connect()\n",
    "\n",
    "# Declare a Base using `automap_base()`\n",
    "Base = automap_base()\n",
    "\n",
    "# Use the Base class to reflect the database tables\n",
    "Base.prepare(engine, reflect=True)"
   ]
  },
  {
   "cell_type": "code",
   "execution_count": 3,
   "metadata": {},
   "outputs": [
    {
     "data": {
      "text/plain": [
       "['measurement', 'station']"
      ]
     },
     "execution_count": 3,
     "metadata": {},
     "output_type": "execute_result"
    }
   ],
   "source": [
    "Base.classes.keys()"
   ]
  },
  {
   "cell_type": "code",
   "execution_count": 4,
   "metadata": {},
   "outputs": [],
   "source": [
    "# Assign the classes to variables\n",
    "Measurement = Base.classes.measurement\n",
    "Station = Base.classes.station"
   ]
  },
  {
   "cell_type": "code",
   "execution_count": 5,
   "metadata": {},
   "outputs": [],
   "source": [
    "# Create a session\n",
    "session = Session(engine)"
   ]
  },
  {
   "cell_type": "markdown",
   "metadata": {},
   "source": [
    "#### 1.2. Precipitation Analysis"
   ]
  },
  {
   "cell_type": "markdown",
   "metadata": {},
   "source": [
    "* Design a query to retrieve the last 12 months of precipitation data.\n",
    "* Select only the date and prcp values.\n",
    "* Load the query results into a Pandas DataFrame and set the index to the date column.\n",
    "* Plot the results using the DataFrame plot method.\n",
    "* Use Pandas to print the summary statistics for the precipitation data."
   ]
  },
  {
   "cell_type": "code",
   "execution_count": 6,
   "metadata": {},
   "outputs": [
    {
     "name": "stdout",
     "output_type": "stream",
     "text": [
      "The last date of record is 2017-08-23.\n",
      "Therefore, query begins on 2016-08-23.\n"
     ]
    }
   ],
   "source": [
    "# Find the latest date of record\n",
    "latest = session.query(Measurement.date).order_by(Measurement.date.desc()).first()[0]\n",
    "print(f\"The last date of record is {latest}.\")\n",
    "\n",
    "# Date 12 months before the last date of record\n",
    "date_start_query = (latest - dt.timedelta(days=365))\n",
    "print(f\"Therefore, query begins on {date_start_query}.\")"
   ]
  },
  {
   "cell_type": "markdown",
   "metadata": {},
   "source": [
    "Note that we did not specify a station for this analysis. So here is the plan:\n",
    "\n",
    "* For visualization, precipitation values were averaged across stations for each day in the record.\n",
    "* For statistics, raw precipitation values were used."
   ]
  },
  {
   "cell_type": "code",
   "execution_count": 7,
   "metadata": {},
   "outputs": [
    {
     "data": {
      "text/html": [
       "<div>\n",
       "<style scoped>\n",
       "    .dataframe tbody tr th:only-of-type {\n",
       "        vertical-align: middle;\n",
       "    }\n",
       "\n",
       "    .dataframe tbody tr th {\n",
       "        vertical-align: top;\n",
       "    }\n",
       "\n",
       "    .dataframe thead th {\n",
       "        text-align: right;\n",
       "    }\n",
       "</style>\n",
       "<table border=\"1\" class=\"dataframe\">\n",
       "  <thead>\n",
       "    <tr style=\"text-align: right;\">\n",
       "      <th></th>\n",
       "      <th>prcp</th>\n",
       "    </tr>\n",
       "    <tr>\n",
       "      <th>date</th>\n",
       "      <th></th>\n",
       "    </tr>\n",
       "  </thead>\n",
       "  <tbody>\n",
       "    <tr>\n",
       "      <th>2016-08-23</th>\n",
       "      <td>0.451667</td>\n",
       "    </tr>\n",
       "    <tr>\n",
       "      <th>2016-08-24</th>\n",
       "      <td>1.555000</td>\n",
       "    </tr>\n",
       "    <tr>\n",
       "      <th>2016-08-25</th>\n",
       "      <td>0.077143</td>\n",
       "    </tr>\n",
       "    <tr>\n",
       "      <th>2016-08-26</th>\n",
       "      <td>0.016667</td>\n",
       "    </tr>\n",
       "    <tr>\n",
       "      <th>2016-08-27</th>\n",
       "      <td>0.064000</td>\n",
       "    </tr>\n",
       "  </tbody>\n",
       "</table>\n",
       "</div>"
      ],
      "text/plain": [
       "                prcp\n",
       "date                \n",
       "2016-08-23  0.451667\n",
       "2016-08-24  1.555000\n",
       "2016-08-25  0.077143\n",
       "2016-08-26  0.016667\n",
       "2016-08-27  0.064000"
      ]
     },
     "execution_count": 7,
     "metadata": {},
     "output_type": "execute_result"
    }
   ],
   "source": [
    "# Query date and prcp\n",
    "date_prcp = pd.read_sql(\"select date, prcp from measurement \\\n",
    "                        where date >= '2016-08-23';\", conn)\n",
    "\n",
    "# Average prcp across stations\n",
    "date_prcp_avg = date_prcp.groupby([\"date\"]).mean()\n",
    "date_prcp_avg.head()"
   ]
  },
  {
   "cell_type": "markdown",
   "metadata": {},
   "source": [
    "Visualization using matplotlib, which is easy to format x-tick labels"
   ]
  },
  {
   "cell_type": "code",
   "execution_count": 8,
   "metadata": {},
   "outputs": [
    {
     "data": {
      "image/png": "[encoded data removed]",
      "text/plain": [
       "<Figure size 800x400 with 1 Axes>"
      ]
     },
     "metadata": {},
     "output_type": "display_data"
    }
   ],
   "source": [
    "mpl.rcParams['figure.dpi']= 100\n",
    "mpl.rcParams['font.family'] = 'sans-serif'\n",
    "mpl.rcParams['font.sans-serif'] = ['Arial']\n",
    "import matplotlib.dates as mdates\n",
    "\n",
    "#plot data\n",
    "plt.figure(figsize=(8,4))\n",
    "plt.bar(pd.to_datetime(date_prcp_avg.index), date_prcp_avg[\"prcp\"], color=\"steelblue\", \n",
    "        width=2, label=\"precipitation\")\n",
    "plt.gca().set_facecolor(\"whitesmoke\")\n",
    "\n",
    "# Format x-tick label\n",
    "plt.gca().xaxis.set_major_locator(mdates.MonthLocator(interval=2))\n",
    "plt.gca().xaxis.set_major_formatter(mdates.DateFormatter('%Y-%m-%d'))\n",
    "plt.xticks(rotation=45, ha=\"right\")\n",
    "\n",
    "# Other formatting\n",
    "plt.xlabel(\"Date\")\n",
    "plt.ylabel(\"Precipitation\")\n",
    "plt.title(\"Precipitation over time\")\n",
    "plt.legend(frameon=True, facecolor=\"whitesmoke\")\n",
    "plt.grid(linestyle='-', linewidth='0.5', color='lightgrey')"
   ]
  },
  {
   "cell_type": "markdown",
   "metadata": {},
   "source": [
    "Visualization using dataframe plot, which is not as flexible in formatting x-tick labels"
   ]
  },
  {
   "cell_type": "code",
   "execution_count": 9,
   "metadata": {},
   "outputs": [
    {
     "data": {
      "image/png": "[encoded data removed]",
      "text/plain": [
       "<Figure size 800x400 with 1 Axes>"
      ]
     },
     "metadata": {},
     "output_type": "display_data"
    }
   ],
   "source": [
    "mpl.rcParams['figure.dpi']= 100\n",
    "mpl.rcParams['font.family'] = 'sans-serif'\n",
    "mpl.rcParams['font.sans-serif'] = ['Arial']\n",
    "\n",
    "#plot data\n",
    "ax = date_prcp_avg.plot(kind=\"bar\", color=\"steelblue\", \n",
    "        width=2, figsize=(8,4))\n",
    "plt.gca().set_facecolor(\"whitesmoke\")\n",
    "\n",
    "# Format x-tick label\n",
    "locs = ax.xaxis.get_ticklocs()\n",
    "labels = [ticklabel.get_text() for ticklabel in ax.xaxis.get_ticklabels()]\n",
    "plt.xticks(locs[::40], labels[::40], rotation=45, ha=\"right\")\n",
    "\n",
    "# Other formatting\n",
    "plt.xlim((-10, locs[-1]+10))\n",
    "plt.xlabel(\"Date\")\n",
    "plt.ylabel(\"Precipitation\")\n",
    "plt.title(\"Precipitation over time\")\n",
    "plt.legend([\"precipitation\"], frameon=True, facecolor=\"whitesmoke\")\n",
    "plt.grid(linestyle='-', linewidth='0.5', color='lightgrey')\n",
    "plt.savefig('Results/prcp_date.png', bbox_inches=\"tight\", dpi = 300)"
   ]
  },
  {
   "cell_type": "markdown",
   "metadata": {},
   "source": [
    "Summary statistics"
   ]
  },
  {
   "cell_type": "code",
   "execution_count": 10,
   "metadata": {},
   "outputs": [
    {
     "data": {
      "text/html": [
       "<div>\n",
       "<style scoped>\n",
       "    .dataframe tbody tr th:only-of-type {\n",
       "        vertical-align: middle;\n",
       "    }\n",
       "\n",
       "    .dataframe tbody tr th {\n",
       "        vertical-align: top;\n",
       "    }\n",
       "\n",
       "    .dataframe thead th {\n",
       "        text-align: right;\n",
       "    }\n",
       "</style>\n",
       "<table border=\"1\" class=\"dataframe\">\n",
       "  <thead>\n",
       "    <tr style=\"text-align: right;\">\n",
       "      <th></th>\n",
       "      <th>prcp</th>\n",
       "    </tr>\n",
       "  </thead>\n",
       "  <tbody>\n",
       "    <tr>\n",
       "      <th>count</th>\n",
       "      <td>2021.000000</td>\n",
       "    </tr>\n",
       "    <tr>\n",
       "      <th>mean</th>\n",
       "      <td>0.177279</td>\n",
       "    </tr>\n",
       "    <tr>\n",
       "      <th>std</th>\n",
       "      <td>0.461190</td>\n",
       "    </tr>\n",
       "    <tr>\n",
       "      <th>min</th>\n",
       "      <td>0.000000</td>\n",
       "    </tr>\n",
       "    <tr>\n",
       "      <th>25%</th>\n",
       "      <td>0.000000</td>\n",
       "    </tr>\n",
       "    <tr>\n",
       "      <th>50%</th>\n",
       "      <td>0.020000</td>\n",
       "    </tr>\n",
       "    <tr>\n",
       "      <th>75%</th>\n",
       "      <td>0.130000</td>\n",
       "    </tr>\n",
       "    <tr>\n",
       "      <th>max</th>\n",
       "      <td>6.700000</td>\n",
       "    </tr>\n",
       "  </tbody>\n",
       "</table>\n",
       "</div>"
      ],
      "text/plain": [
       "              prcp\n",
       "count  2021.000000\n",
       "mean      0.177279\n",
       "std       0.461190\n",
       "min       0.000000\n",
       "25%       0.000000\n",
       "50%       0.020000\n",
       "75%       0.130000\n",
       "max       6.700000"
      ]
     },
     "execution_count": 10,
     "metadata": {},
     "output_type": "execute_result"
    }
   ],
   "source": [
    "date_prcp.describe()"
   ]
  },
  {
   "cell_type": "markdown",
   "metadata": {},
   "source": [
    "#### 1.3. Station Analysis"
   ]
  },
  {
   "cell_type": "markdown",
   "metadata": {},
   "source": [
    "* Design a query to calculate the total number of stations.\n",
    "\n",
    "* Design a query to find the most active stations.\n",
    "\n",
    "  * List the stations and observation counts in descending order\n",
    "\n",
    "  * Which station has the highest number of observations?\n",
    "\n",
    "* Design a query to retrieve the last 12 months of temperature observation data (tobs).\n",
    "\n",
    "  * Filter by the station with the highest number of observations.\n",
    "\n",
    "  * Plot the results as a histogram with `bins=12`."
   ]
  },
  {
   "cell_type": "code",
   "execution_count": 11,
   "metadata": {},
   "outputs": [
    {
     "name": "stdout",
     "output_type": "stream",
     "text": [
      "There are 9 stations in total.\n"
     ]
    }
   ],
   "source": [
    "# Query number of stations\n",
    "num_stations = session.query(func.count(Station.station)).all()[0][0]\n",
    "print(f\"There are {num_stations} stations in total.\")"
   ]
  },
  {
   "cell_type": "code",
   "execution_count": 12,
   "metadata": {},
   "outputs": [
    {
     "name": "stdout",
     "output_type": "stream",
     "text": [
      "[('USC00519281', 2772),\n",
      " ('USC00513117', 2696),\n",
      " ('USC00519397', 2685),\n",
      " ('USC00519523', 2572),\n",
      " ('USC00516128', 2484),\n",
      " ('USC00514830', 1937),\n",
      " ('USC00511918', 1932),\n",
      " ('USC00517948', 683),\n",
      " ('USC00518838', 342)]\n",
      "\n",
      "Station USC00519281 has the highest number of observations.\n"
     ]
    }
   ],
   "source": [
    "# Query most active station\n",
    "active_stations = session.query(Measurement.station, func.count(Measurement.prcp)). \\\n",
    "                    group_by(Measurement.station). \\\n",
    "                    order_by(func.count(Measurement.prcp).desc()).all()\n",
    "pprint.pprint(active_stations)\n",
    "print(f\"\\nStation {active_stations[0][0]} has the highest number of observations.\")"
   ]
  },
  {
   "cell_type": "code",
   "execution_count": 13,
   "metadata": {},
   "outputs": [
    {
     "data": {
      "image/png": "[encoded data removed]",
      "text/plain": [
       "<Figure size 600x400 with 1 Axes>"
      ]
     },
     "metadata": {},
     "output_type": "display_data"
    }
   ],
   "source": [
    "# Query temperatures\n",
    "tobs_raw = session.query(Measurement.tobs). \\\n",
    "    filter(Measurement.date >= date_start_query). \\\n",
    "    filter(Measurement.station == active_stations[0][0]).all()\n",
    "\n",
    "# Store temperatures in a list\n",
    "tobs = [temp[0] for temp in tobs_raw]\n",
    "\n",
    "# Plot\n",
    "plt.hist(tobs, bins=12, label=\"temperature\")\n",
    "plt.gca().set_facecolor(\"whitesmoke\")\n",
    "plt.xlabel(\"Temperature\")\n",
    "plt.ylabel(\"Frequency\")\n",
    "plt.title(f\"Temperature frequency at station {active_stations[0][0]}\")\n",
    "plt.legend(frameon=True, facecolor=\"whitesmoke\")\n",
    "plt.grid(linestyle='-', linewidth='0.5', color='lightgrey')\n",
    "plt.gca().set_axisbelow(True)\n",
    "plt.savefig('Results/temp_hist.png', bbox_inches=\"tight\", dpi = 300)"
   ]
  },
  {
   "cell_type": "markdown",
   "metadata": {},
   "source": [
    "#### 1.4. Temperature Analysis"
   ]
  },
  {
   "cell_type": "markdown",
   "metadata": {},
   "source": [
    "* Write a function called `calc_temps` that will accept a start date and end date in the format `%Y-%m-%d` and return the minimum, average, and maximum temperatures for that range of dates.\n",
    "\n",
    "* Use the `calc_temps` function to calculate the min, avg, and max temperatures for your trip using the matching dates from the previous year (i.e. use \"2017-01-01\" if your trip start date was \"2018-01-01\")\n",
    "\n",
    "* Plot the min, avg, and max temperature from your previous query as a bar chart.\n",
    "\n",
    "  * Use the average temperature as the bar height.\n",
    "\n",
    "  * Use the peak-to-peak (tmax-tmin) value as the y error bar (yerr)."
   ]
  },
  {
   "cell_type": "code",
   "execution_count": 14,
   "metadata": {},
   "outputs": [],
   "source": [
    "# Write the function\n",
    "def calc_temps(start_date, end_date):\n",
    "    \n",
    "    '''\n",
    "    inputs \n",
    "    start_date (str): trip start date in the format %Y-%m-%d\n",
    "    end_date (str): trip end date in the format %Y-%m-%d\n",
    "    \n",
    "    outputs:\n",
    "    temps (tuple): tuple of min, mean, and max temperatures for that range of dates\n",
    "    '''\n",
    "    \n",
    "    start_date_dt = dt.datetime.strptime(start_date, '%Y-%m-%d')\n",
    "    end_date_dt = dt.datetime.strptime(end_date, '%Y-%m-%d')\n",
    "\n",
    "    sel = [func.min(Measurement.tobs), func.avg(Measurement.tobs), func.max(Measurement.tobs)]\n",
    "    temps = session.query(*sel). \\\n",
    "                filter(Measurement.date>=start_date_dt). \\\n",
    "                filter(Measurement.date<=end_date_dt).all()[0]\n",
    "    \n",
    "    return temps"
   ]
  },
  {
   "cell_type": "code",
   "execution_count": 15,
   "metadata": {},
   "outputs": [
    {
     "name": "stdout",
     "output_type": "stream",
     "text": [
      "My trip starts on 2017-03-01 and ends on 2017-03-14. For the range of dates, the min temperature is 62.0, mean temperature is 71.31884057971014, and maximum temperature is 82.0.\n"
     ]
    }
   ],
   "source": [
    "# My trip\n",
    "start_date = \"2017-03-01\"\n",
    "end_date = \"2017-03-14\"\n",
    "[temp_min, temp_avg, temp_max] = calc_temps(start_date, end_date)\n",
    "\n",
    "print(f\"My trip starts on {start_date} and ends on {end_date}. \\\n",
    "For the range of dates, the min temperature is {temp_min}, \\\n",
    "mean temperature is {temp_avg}, and maximum temperature is {temp_max}.\")"
   ]
  },
  {
   "cell_type": "code",
   "execution_count": 16,
   "metadata": {},
   "outputs": [
    {
     "data": {
      "image/png": "[encoded data removed]",
      "text/plain": [
       "<Figure size 200x500 with 1 Axes>"
      ]
     },
     "metadata": {},
     "output_type": "display_data"
    }
   ],
   "source": [
    "# Plot\n",
    "plt.figure(figsize=(2,5))\n",
    "plt.bar(0, temp_avg, color=\"lightsalmon\", width=1.4, \n",
    "        alpha=0.7, yerr=temp_max-temp_min, error_kw={\"linewidth\":2})\n",
    "plt.gca().set_facecolor(\"whitesmoke\")\n",
    "plt.grid(linestyle='-', linewidth='0.5', color='lightgrey')\n",
    "plt.gca().set_axisbelow(True)\n",
    "plt.gca().set_xticks([])\n",
    "plt.xlim((-1, 1))\n",
    "plt.ylim((0, 100))\n",
    "plt.ylabel(\"Temperature (F)\")\n",
    "plt.title(\"Trip average temperature\")\n",
    "plt.savefig('Results/temp_avg.png', bbox_inches=\"tight\", dpi = 300)"
   ]
  },
  {
   "cell_type": "markdown",
   "metadata": {},
   "source": [
    "#### 1.5. Optional recommended analysis"
   ]
  },
  {
   "cell_type": "markdown",
   "metadata": {},
   "source": [
    "* Calculate the rainfall per weather station using the previous year's matching dates.\n",
    "\n",
    "* Calculate the daily normals. Normals are the averages for min, avg, and max temperatures.\n",
    "\n",
    "  * Create a function called `daily_normals` that will calculate the daily normals for a specific date. This date string will be in the format `%m-%d`. Be sure to use all historic tobs that match that date string.\n",
    "\n",
    "  * Create a list of dates for your trip in the format `%m-%d`. Use the `daily_normals` function to calculate the normals for each date string and append the results to a list.\n",
    "\n",
    "  * Load the list of daily normals into a Pandas DataFrame and set the index equal to the date.\n",
    "\n",
    "  * Use Pandas to plot an area plot (`stacked=False`) for the daily normals."
   ]
  },
  {
   "cell_type": "code",
   "execution_count": 17,
   "metadata": {},
   "outputs": [
    {
     "data": {
      "text/plain": [
       "[('USC00513117', 0.2738461538461538),\n",
       " ('USC00519281', 0.25230769230769223),\n",
       " ('USC00519523', 0.21625),\n",
       " ('USC00516128', 0.13636363636363638),\n",
       " ('USC00517948', 0.12800000000000003),\n",
       " ('USC00519397', 0.11923076923076922),\n",
       " ('USC00514830', 0.105)]"
      ]
     },
     "execution_count": 17,
     "metadata": {},
     "output_type": "execute_result"
    }
   ],
   "source": [
    "# Average rainfall per weather station during the range of dates\n",
    "start_date_dt = dt.datetime.strptime(start_date, '%Y-%m-%d')\n",
    "end_date_dt = dt.datetime.strptime(end_date, '%Y-%m-%d')\n",
    "\n",
    "session.query(Measurement.station, func.avg(Measurement.prcp)). \\\n",
    "            filter(Measurement.date.between(start_date_dt, end_date_dt)). \\\n",
    "            group_by(Measurement.station). \\\n",
    "            order_by(func.avg(Measurement.prcp).desc()).all()"
   ]
  },
  {
   "cell_type": "code",
   "execution_count": 18,
   "metadata": {},
   "outputs": [],
   "source": [
    "# Create a function\n",
    "def daily_normals(date1):\n",
    "    \n",
    "    '''\n",
    "    input\n",
    "    date1 (str): a specific date in the format %m-%d\n",
    "    \n",
    "    output\n",
    "    temps (tuple): tuple of min, avg, and max temperature of the specific date\n",
    "    '''\n",
    "    \n",
    "    sel = [func.min(Measurement.tobs), func.avg(Measurement.tobs), func.max(Measurement.tobs)]\n",
    "    temps = session.query(*sel). \\\n",
    "                    filter(func.date(Measurement.date).like(f'%{date1}%')).all()[0]\n",
    "    return temps"
   ]
  },
  {
   "cell_type": "code",
   "execution_count": 19,
   "metadata": {},
   "outputs": [
    {
     "data": {
      "text/html": [
       "<div>\n",
       "<style scoped>\n",
       "    .dataframe tbody tr th:only-of-type {\n",
       "        vertical-align: middle;\n",
       "    }\n",
       "\n",
       "    .dataframe tbody tr th {\n",
       "        vertical-align: top;\n",
       "    }\n",
       "\n",
       "    .dataframe thead th {\n",
       "        text-align: right;\n",
       "    }\n",
       "</style>\n",
       "<table border=\"1\" class=\"dataframe\">\n",
       "  <thead>\n",
       "    <tr style=\"text-align: right;\">\n",
       "      <th></th>\n",
       "      <th>min</th>\n",
       "      <th>avg</th>\n",
       "      <th>max</th>\n",
       "    </tr>\n",
       "  </thead>\n",
       "  <tbody>\n",
       "    <tr>\n",
       "      <th>02-01</th>\n",
       "      <td>56.0</td>\n",
       "      <td>67.924528</td>\n",
       "      <td>78.0</td>\n",
       "    </tr>\n",
       "    <tr>\n",
       "      <th>02-02</th>\n",
       "      <td>59.0</td>\n",
       "      <td>68.820000</td>\n",
       "      <td>76.0</td>\n",
       "    </tr>\n",
       "    <tr>\n",
       "      <th>02-03</th>\n",
       "      <td>58.0</td>\n",
       "      <td>67.622642</td>\n",
       "      <td>77.0</td>\n",
       "    </tr>\n",
       "    <tr>\n",
       "      <th>02-04</th>\n",
       "      <td>61.0</td>\n",
       "      <td>68.153846</td>\n",
       "      <td>76.0</td>\n",
       "    </tr>\n",
       "    <tr>\n",
       "      <th>02-05</th>\n",
       "      <td>59.0</td>\n",
       "      <td>69.294118</td>\n",
       "      <td>77.0</td>\n",
       "    </tr>\n",
       "    <tr>\n",
       "      <th>02-06</th>\n",
       "      <td>58.0</td>\n",
       "      <td>70.288462</td>\n",
       "      <td>77.0</td>\n",
       "    </tr>\n",
       "    <tr>\n",
       "      <th>02-07</th>\n",
       "      <td>60.0</td>\n",
       "      <td>68.849057</td>\n",
       "      <td>77.0</td>\n",
       "    </tr>\n",
       "  </tbody>\n",
       "</table>\n",
       "</div>"
      ],
      "text/plain": [
       "        min        avg   max\n",
       "02-01  56.0  67.924528  78.0\n",
       "02-02  59.0  68.820000  76.0\n",
       "02-03  58.0  67.622642  77.0\n",
       "02-04  61.0  68.153846  76.0\n",
       "02-05  59.0  69.294118  77.0\n",
       "02-06  58.0  70.288462  77.0\n",
       "02-07  60.0  68.849057  77.0"
      ]
     },
     "execution_count": 19,
     "metadata": {},
     "output_type": "execute_result"
    }
   ],
   "source": [
    "# Daily normals\n",
    "dates = [\"02-01\", \"02-02\", \"02-03\", \"02-04\", \"02-05\", \"02-06\", \"02-07\"]\n",
    "normals = [daily_normals(date1) for date1 in dates]\n",
    "\n",
    "# To dataframe\n",
    "df_normals = pd.DataFrame(normals, index=dates, columns=[\"min\", \"avg\", \"max\"])\n",
    "df_normals"
   ]
  },
  {
   "cell_type": "code",
   "execution_count": 20,
   "metadata": {},
   "outputs": [
    {
     "data": {
      "image/png": "[encoded data removed]",
      "text/plain": [
       "<Figure size 600x400 with 1 Axes>"
      ]
     },
     "metadata": {},
     "output_type": "display_data"
    }
   ],
   "source": [
    "# Plot\n",
    "df_normals.plot.area(stacked=False, color=[\"lightskyblue\", \"lightsalmon\", \"papayawhip\"])\n",
    "\n",
    "ax = plt.gca()\n",
    "ax.set_facecolor(\"whitesmoke\")\n",
    "\n",
    "# Format x-tick label\n",
    "locs = ax.xaxis.get_ticklocs()[1:-1]\n",
    "plt.xticks(locs, df_normals.index, rotation=45, ha=\"right\")\n",
    "\n",
    "# Other formatting\n",
    "plt.xlim((locs[0], locs[-1]))\n",
    "plt.xlabel(\"Date\")\n",
    "plt.ylabel(\"Temperature (F)\")\n",
    "plt.title(\"Temperature over time\")\n",
    "plt.grid(linestyle='-', linewidth='0.5', color='lightgrey')\n",
    "ax.set_axisbelow(True)\n",
    "plt.savefig('Results/daily_normals.png', bbox_inches=\"tight\", dpi = 300)"
   ]
  },
  {
   "cell_type": "markdown",
   "metadata": {},
   "source": [
    "### 2. Climate App"
   ]
  },
  {
   "cell_type": "markdown",
   "metadata": {},
   "source": [
    "#### This part is in file [hawaii_app.py](hawaii_app.py)"
   ]
  }
 ],
 "metadata": {
  "kernelspec": {
   "display_name": "Python [conda env:py36]",
   "language": "python",
   "name": "conda-env-py36-py"
  },
  "language_info": {
   "codemirror_mode": {
    "name": "ipython",
    "version": 3
   },
   "file_extension": ".py",
   "mimetype": "text/x-python",
   "name": "python",
   "nbconvert_exporter": "python",
   "pygments_lexer": "ipython3",
   "version": "3.6.5"
  }
 },
 "nbformat": 4,
 "nbformat_minor": 2
}
